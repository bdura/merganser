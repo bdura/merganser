{
 "cells": [
  {
   "cell_type": "code",
   "execution_count": 1,
   "metadata": {},
   "outputs": [],
   "source": [
    "%reload_ext autoreload\n",
    "%autoreload 2"
   ]
  },
  {
   "cell_type": "code",
   "execution_count": 2,
   "metadata": {},
   "outputs": [],
   "source": [
    "import sys\n",
    "sys.path.insert(0, '../../../devel/lib/python2.7/dist-packages')\n",
    "sys.path.insert(0, '../../../src/merganser/packages/merganser_line_detector/include')\n",
    "sys.path.insert(0, '../../../src/merganser/packages/merganser_bezier/include')"
   ]
  },
  {
   "cell_type": "code",
   "execution_count": 3,
   "metadata": {},
   "outputs": [],
   "source": [
    "%matplotlib inline\n",
    "import numpy as np\n",
    "import matplotlib.pyplot as plt\n",
    "import cv2\n",
    "\n",
    "import json\n",
    "\n",
    "import duckietown_utils as dtu\n",
    "from merganser_line_detector.line_detector import LineDetectorHSV\n",
    "from merganser_line_detector.utils import detections_to_image, skeletons_to_image"
   ]
  },
  {
   "cell_type": "code",
   "execution_count": 4,
   "metadata": {},
   "outputs": [],
   "source": [
    "from merganser_bezier.bezier import Bezier, compute_curve"
   ]
  },
  {
   "cell_type": "code",
   "execution_count": 5,
   "metadata": {},
   "outputs": [],
   "source": [
    "config_filename = '../../../src/merganser/packages/merganser_line_detector/config/merganser_line_detector_node/default.yaml'"
   ]
  },
  {
   "cell_type": "code",
   "execution_count": 6,
   "metadata": {},
   "outputs": [],
   "source": [
    "with open(config_filename, 'r') as f:\n",
    "    config = dtu.yaml_load(f.read())\n",
    "configuration = config['detector'][1]['configuration']"
   ]
  },
  {
   "cell_type": "code",
   "execution_count": 7,
   "metadata": {},
   "outputs": [],
   "source": [
    "detector = LineDetectorHSV(configuration)"
   ]
  },
  {
   "cell_type": "code",
   "execution_count": 8,
   "metadata": {},
   "outputs": [],
   "source": [
    "def process_image(image, config):\n",
    "    img_size = config['img_size']\n",
    "    top_cutoff = config['top_cutoff']\n",
    "    img = cv2.resize(image, (img_size[1], img_size[0]))\n",
    "    return img[top_cutoff:]"
   ]
  },
  {
   "cell_type": "code",
   "execution_count": 9,
   "metadata": {},
   "outputs": [],
   "source": [
    "filename = 'skeletons_log_11-25_2.json'\n",
    "with open(filename, 'rb') as f:\n",
    "    skeletons_frames = json.load(f)"
   ]
  },
  {
   "cell_type": "code",
   "execution_count": 10,
   "metadata": {},
   "outputs": [
    {
     "data": {
      "text/plain": [
       "array([[ 0.2,  0.2],\n",
       "       [ 0.4,  0.4],\n",
       "       [ 0.6,  0.6],\n",
       "       [ 0.8,  0.8]])"
      ]
     },
     "execution_count": 10,
     "metadata": {},
     "output_type": "execute_result"
    }
   ],
   "source": [
    "choice = np.linspace(.2, .8, 4).reshape(-1, 1)\n",
    "choice = np.hstack((choice, choice))\n",
    "choice"
   ]
  },
  {
   "cell_type": "code",
   "execution_count": 11,
   "metadata": {},
   "outputs": [],
   "source": [
    "cloud = np.array(skeletons_frames[0]['white'][1]).T"
   ]
  },
  {
   "cell_type": "code",
   "execution_count": 12,
   "metadata": {},
   "outputs": [
    {
     "data": {
      "text/plain": [
       "109"
      ]
     },
     "execution_count": 12,
     "metadata": {},
     "output_type": "execute_result"
    }
   ],
   "source": [
    "len(cloud)"
   ]
  },
  {
   "cell_type": "code",
   "execution_count": 13,
   "metadata": {},
   "outputs": [],
   "source": [
    "bezier = Bezier(4, 20, reg=.01)\n",
    "bezier.initialise(cloud)"
   ]
  },
  {
   "cell_type": "code",
   "execution_count": 14,
   "metadata": {},
   "outputs": [
    {
     "name": "stdout",
     "output_type": "stream",
     "text": [
      "The slowest run took 11.11 times longer than the fastest. This could mean that an intermediate result is being cached.\n",
      "10000 loops, best of 3: 32.4 µs per loop\n"
     ]
    }
   ],
   "source": [
    "%timeit bezier.nll(cloud)"
   ]
  },
  {
   "cell_type": "code",
   "execution_count": 15,
   "metadata": {},
   "outputs": [
    {
     "name": "stdout",
     "output_type": "stream",
     "text": [
      "1000 loops, best of 3: 765 µs per loop\n"
     ]
    }
   ],
   "source": [
    "%timeit bezier.fit(cloud, steps=1, eps=0)"
   ]
  },
  {
   "cell_type": "code",
   "execution_count": null,
   "metadata": {},
   "outputs": [],
   "source": [
    "cloud_ = cloud + .005 *np.random.normal(size=cloud.shape)\n",
    "# cloud_ = cloud_[:, [1, 0]]\n",
    "bezier = Bezier(4, 100, reg=.01)\n",
    "bezier.initialise(cloud_)\n",
    "\n",
    "print(bezier.loss(cloud_))\n",
    "\n",
    "plt.plot(*bezier().T)\n",
    "\n",
    "bezier.fit(\n",
    "            cloud=cloud_,\n",
    "            steps=200,\n",
    "            eps=.001,\n",
    "            lr=.005,\n",
    "        )\n",
    "\n",
    "plt.plot(*bezier().T)\n",
    "plt.scatter(*cloud_.T, alpha=.5)\n",
    "plt.axis('equal')\n",
    "plt.show()"
   ]
  },
  {
   "cell_type": "code",
   "execution_count": 37,
   "metadata": {},
   "outputs": [
    {
     "name": "stdout",
     "output_type": "stream",
     "text": [
      "0.00278765693855\n"
     ]
    },
    {
     "data": {
      "image/png": "[encoded data removed]",
      "text/plain": [
       "<matplotlib.figure.Figure at 0x7fa5e4ff6050>"
      ]
     },
     "metadata": {
      "needs_background": "light"
     },
     "output_type": "display_data"
    }
   ],
   "source": [
    "cloud_ = cloud + .005 *np.random.normal(size=cloud.shape)\n",
    "# cloud_ = cloud_[:, [1, 0]]\n",
    "bezier = Bezier(4, 100, reg=.01)\n",
    "bezier.initialise(cloud_)\n",
    "\n",
    "print(bezier.loss(cloud_))\n",
    "\n",
    "plt.plot(*bezier().T)\n",
    "\n",
    "bezier.fit(\n",
    "            cloud=cloud_,\n",
    "            steps=200,\n",
    "            eps=.001,\n",
    "            lr=.005,\n",
    "        )\n",
    "\n",
    "plt.plot(*bezier().T)\n",
    "plt.scatter(*cloud_.T, alpha=.5)\n",
    "plt.axis('equal')\n",
    "plt.show()"
   ]
  },
  {
   "cell_type": "code",
   "execution_count": 38,
   "metadata": {},
   "outputs": [
    {
     "ename": "TypeError",
     "evalue": "super(type, obj): obj must be an instance or subtype of type",
     "output_type": "error",
     "traceback": [
      "\u001b[0;31m\u001b[0m",
      "\u001b[0;31mTypeError\u001b[0mTraceback (most recent call last)",
      "\u001b[0;32m<ipython-input-38-d62162f04462>\u001b[0m in \u001b[0;36m<module>\u001b[0;34m()\u001b[0m\n\u001b[0;32m----> 1\u001b[0;31m \u001b[0mbezier\u001b[0m \u001b[0;34m=\u001b[0m \u001b[0mBezier\u001b[0m\u001b[0;34m(\u001b[0m\u001b[0;36m4\u001b[0m\u001b[0;34m,\u001b[0m \u001b[0;36m20\u001b[0m\u001b[0;34m)\u001b[0m\u001b[0;34m\u001b[0m\u001b[0;34m\u001b[0m\u001b[0m\n\u001b[0m",
      "\u001b[0;32m/duckietown/catkin_ws/src/merganser/packages/merganser_bezier/include/merganser_bezier/bezier.py\u001b[0m in \u001b[0;36m__init__\u001b[0;34m(self, order, precision, reg, process_noise)\u001b[0m\n\u001b[1;32m     13\u001b[0m \u001b[0;34m\u001b[0m\u001b[0m\n\u001b[1;32m     14\u001b[0m     \u001b[0;32mdef\u001b[0m \u001b[0m__init__\u001b[0m\u001b[0;34m(\u001b[0m\u001b[0mself\u001b[0m\u001b[0;34m,\u001b[0m \u001b[0morder\u001b[0m\u001b[0;34m,\u001b[0m \u001b[0mprecision\u001b[0m\u001b[0;34m,\u001b[0m \u001b[0mreg\u001b[0m\u001b[0;34m=\u001b[0m\u001b[0;36m5e-3\u001b[0m\u001b[0;34m,\u001b[0m \u001b[0mprocess_noise\u001b[0m\u001b[0;34m=\u001b[0m\u001b[0;36m.01\u001b[0m\u001b[0;34m)\u001b[0m\u001b[0;34m:\u001b[0m\u001b[0;34m\u001b[0m\u001b[0;34m\u001b[0m\u001b[0m\n\u001b[0;32m---> 15\u001b[0;31m         \u001b[0msuper\u001b[0m\u001b[0;34m(\u001b[0m\u001b[0mBezier\u001b[0m\u001b[0;34m,\u001b[0m \u001b[0mself\u001b[0m\u001b[0;34m)\u001b[0m\u001b[0;34m.\u001b[0m\u001b[0m__init__\u001b[0m\u001b[0;34m(\u001b[0m\u001b[0;34m)\u001b[0m\u001b[0;34m\u001b[0m\u001b[0;34m\u001b[0m\u001b[0m\n\u001b[0m\u001b[1;32m     16\u001b[0m \u001b[0;34m\u001b[0m\u001b[0m\n\u001b[1;32m     17\u001b[0m         \u001b[0mself\u001b[0m\u001b[0;34m.\u001b[0m\u001b[0mbernstein\u001b[0m \u001b[0;34m=\u001b[0m \u001b[0mget_bernstein\u001b[0m\u001b[0;34m(\u001b[0m\u001b[0mprecision\u001b[0m\u001b[0;34m=\u001b[0m\u001b[0mprecision\u001b[0m\u001b[0;34m,\u001b[0m \u001b[0morder\u001b[0m\u001b[0;34m=\u001b[0m\u001b[0morder\u001b[0m\u001b[0;34m)\u001b[0m\u001b[0;34m\u001b[0m\u001b[0;34m\u001b[0m\u001b[0m\n",
      "\u001b[0;31mTypeError\u001b[0m: super(type, obj): obj must be an instance or subtype of type"
     ]
    }
   ],
   "source": [
    "bezier = Bezier(4, 20)"
   ]
  },
  {
   "cell_type": "code",
   "execution_count": null,
   "metadata": {},
   "outputs": [],
   "source": []
  },
  {
   "cell_type": "code",
   "execution_count": 29,
   "metadata": {},
   "outputs": [],
   "source": [
    "bezier.fit(cloud, steps=1000, eps=0, lr=.0001)"
   ]
  },
  {
   "cell_type": "code",
   "execution_count": 38,
   "metadata": {},
   "outputs": [
    {
     "data": {
      "text/plain": [
       "(0.63749571771196822,\n",
       " 0.98514584570355901,\n",
       " 0.020181236307814175,\n",
       " 0.54284399982194653)"
      ]
     },
     "execution_count": 38,
     "metadata": {},
     "output_type": "execute_result"
    },
    {
     "data": {
      "image/png": "[encoded data removed]",
      "text/plain": [
       "<matplotlib.figure.Figure at 0x7fdac25c9c90>"
      ]
     },
     "metadata": {
      "needs_background": "light"
     },
     "output_type": "display_data"
    }
   ],
   "source": [
    "plt.plot(*bezier().T)\n",
    "plt.scatter(*cloud.T, alpha=.5)\n",
    "plt.axis('equal')"
   ]
  },
  {
   "cell_type": "code",
   "execution_count": 25,
   "metadata": {},
   "outputs": [
    {
     "name": "stdout",
     "output_type": "stream",
     "text": [
      "10 loops, best of 3: 21.6 ms per loop\n"
     ]
    }
   ],
   "source": [
    "%%timeit\n",
    "bezier = Bezier(4, 20, choice=cloud)\n",
    "bezier.fit(cloud, steps=100, eps=0.001, lr=.01)"
   ]
  },
  {
   "cell_type": "code",
   "execution_count": 35,
   "metadata": {},
   "outputs": [],
   "source": [
    "bezier = Bezier(4, 20, choice=cloud)\n",
    "bezier.fit(cloud, steps=100, eps=0.001, lr=.01)"
   ]
  },
  {
   "cell_type": "code",
   "execution_count": 36,
   "metadata": {
    "scrolled": true
   },
   "outputs": [
    {
     "data": {
      "text/plain": [
       "<matplotlib.collections.PathCollection at 0x7f62fe6d8610>"
      ]
     },
     "execution_count": 36,
     "metadata": {},
     "output_type": "execute_result"
    },
    {
     "data": {
      "image/png": "[encoded data removed]",
      "text/plain": [
       "<matplotlib.figure.Figure at 0x7f62fe6d8d50>"
      ]
     },
     "metadata": {
      "needs_background": "light"
     },
     "output_type": "display_data"
    }
   ],
   "source": [
    "plt.plot(*bezier().T)\n",
    "plt.scatter(*cloud.T, alpha=.5)"
   ]
  },
  {
   "cell_type": "code",
   "execution_count": 37,
   "metadata": {},
   "outputs": [
    {
     "name": "stdout",
     "output_type": "stream",
     "text": [
      "100 loops, best of 3: 2.74 ms per loop\n"
     ]
    }
   ],
   "source": [
    "%%timeit\n",
    "bezier = Bezier(4, 20, choice=cloud)\n",
    "bezier.closed_form(cloud)"
   ]
  },
  {
   "cell_type": "code",
   "execution_count": 38,
   "metadata": {},
   "outputs": [],
   "source": [
    "bezier = Bezier(4, 20, choice=cloud)\n",
    "bezier.closed_form(cloud)"
   ]
  },
  {
   "cell_type": "code",
   "execution_count": 39,
   "metadata": {
    "scrolled": true
   },
   "outputs": [
    {
     "data": {
      "text/plain": [
       "<matplotlib.collections.PathCollection at 0x7f62fe635850>"
      ]
     },
     "execution_count": 39,
     "metadata": {},
     "output_type": "execute_result"
    },
    {
     "data": {
      "image/png": "[encoded data removed]",
      "text/plain": [
       "<matplotlib.figure.Figure at 0x7f62fe6359d0>"
      ]
     },
     "metadata": {
      "needs_background": "light"
     },
     "output_type": "display_data"
    }
   ],
   "source": [
    "plt.plot(*bezier().T)\n",
    "plt.scatter(*cloud.T, alpha=.5)"
   ]
  },
  {
   "cell_type": "code",
   "execution_count": 53,
   "metadata": {},
   "outputs": [],
   "source": [
    "bezier = Bezier(4, 20, choice=cloud)\n",
    "\n",
    "bezier.closed_form(cloud)\n",
    "bezier.closed_form(cloud)\n",
    "bezier.closed_form(cloud)\n",
    "bezier.closed_form(cloud)"
   ]
  },
  {
   "cell_type": "code",
   "execution_count": 54,
   "metadata": {},
   "outputs": [
    {
     "data": {
      "text/plain": [
       "<matplotlib.collections.PathCollection at 0x7f6cfe32a2d0>"
      ]
     },
     "execution_count": 54,
     "metadata": {},
     "output_type": "execute_result"
    },
    {
     "data": {
      "image/png": "[encoded data removed]",
      "text/plain": [
       "<matplotlib.figure.Figure at 0x7f6cfe32a250>"
      ]
     },
     "metadata": {
      "needs_background": "light"
     },
     "output_type": "display_data"
    }
   ],
   "source": [
    "plt.plot(*bezier().T)\n",
    "plt.scatter(*cloud.T)"
   ]
  },
  {
   "cell_type": "code",
   "execution_count": null,
   "metadata": {},
   "outputs": [],
   "source": [
    "%%timeit\n",
    "bezier = Bezier(4, 100, choice=cloud)\n",
    "bezier.closed_form(cloud)"
   ]
  },
  {
   "cell_type": "code",
   "execution_count": 39,
   "metadata": {},
   "outputs": [
    {
     "data": {
      "text/plain": [
       "<matplotlib.collections.PathCollection at 0x7fd373d79390>"
      ]
     },
     "execution_count": 39,
     "metadata": {},
     "output_type": "execute_result"
    },
    {
     "data": {
      "image/png": "[encoded data removed]",
      "text/plain": [
       "<matplotlib.figure.Figure at 0x7fd373d9a1d0>"
      ]
     },
     "metadata": {
      "needs_background": "light"
     },
     "output_type": "display_data"
    }
   ],
   "source": [
    "params = bezier.closed_form(cloud)\n",
    "bezier.controls = params\n",
    "plt.plot(*bezier().T)\n",
    "plt.scatter(*cloud.T)"
   ]
  },
  {
   "cell_type": "code",
   "execution_count": 31,
   "metadata": {},
   "outputs": [
    {
     "data": {
      "text/plain": [
       "array([[ 0.00419374,  0.42452775],\n",
       "       [ 0.0656851 ,  0.52608448],\n",
       "       [ 0.16880441,  0.5469147 ],\n",
       "       [ 0.26626558,  0.58344595]])"
      ]
     },
     "execution_count": 31,
     "metadata": {},
     "output_type": "execute_result"
    }
   ],
   "source": [
    "params"
   ]
  },
  {
   "cell_type": "code",
   "execution_count": 32,
   "metadata": {},
   "outputs": [
    {
     "data": {
      "text/plain": [
       "<matplotlib.collections.PathCollection at 0x7fd37402ff10>"
      ]
     },
     "execution_count": 32,
     "metadata": {},
     "output_type": "execute_result"
    },
    {
     "data": {
      "image/png": "[encoded data removed]",
      "text/plain": [
       "<matplotlib.figure.Figure at 0x7fd37402f890>"
      ]
     },
     "metadata": {
      "needs_background": "light"
     },
     "output_type": "display_data"
    }
   ],
   "source": [
    "plt.plot(*compute_curve(params).T)\n",
    "plt.scatter(*cloud.T)"
   ]
  },
  {
   "cell_type": "code",
   "execution_count": 40,
   "metadata": {},
   "outputs": [
    {
     "data": {
      "text/plain": [
       "0.031189449902748516"
      ]
     },
     "execution_count": 40,
     "metadata": {},
     "output_type": "execute_result"
    }
   ],
   "source": [
    "bezier.nll(cloud)"
   ]
  },
  {
   "cell_type": "code",
   "execution_count": 28,
   "metadata": {},
   "outputs": [],
   "source": [
    "class BezierWrapper:\n",
    "    \n",
    "    def __init__(self):\n",
    "        \n",
    "        self.beziers = dict(red=[], yellow=[], white=[])\n",
    "        \n",
    "        self.curve_precision = 20\n",
    "        self.reg = .01\n",
    "        self.eps = .001\n",
    "        self.lr = .01\n",
    "        self.fitting_steps = 100\n",
    "        self.loss_threshold = .001\n",
    "        \n",
    "    def process_cloud(self, cloud, color):\n",
    "        \n",
    "#         choice = np.linspace(.2, .8, 4).reshape(-1, 1)\n",
    "#         choice = np.hstack((choice, choice))\n",
    "        \n",
    "        beziers = self.beziers[color]\n",
    "        \n",
    "        losses = np.array([b.loss(cloud) for b in beziers])\n",
    "        argmin = losses.argmin() if len(losses) > 0 else -1\n",
    "\n",
    "        if argmin > -1 and losses[argmin] < self.loss_threshold:\n",
    "            bezier = beziers[argmin].copy()\n",
    "        else:\n",
    "            bezier = Bezier(4, self.curve_precision, reg=self.reg)\n",
    "            bezier.initialise(cloud)\n",
    "        \n",
    "#         bezier.extrapolate(-.05, 1.05)\n",
    "            \n",
    "        bezier.fit(\n",
    "            cloud=cloud,\n",
    "            steps=self.fitting_steps,\n",
    "            eps=self.eps,\n",
    "            lr=self.lr,\n",
    "        )\n",
    "        \n",
    "        return bezier, color\n",
    "    \n",
    "    def process_clouds(self, skeletons):\n",
    "        pass"
   ]
  },
  {
   "cell_type": "code",
   "execution_count": 29,
   "metadata": {},
   "outputs": [],
   "source": [
    "bw = BezierWrapper()"
   ]
  },
  {
   "cell_type": "code",
   "execution_count": 30,
   "metadata": {},
   "outputs": [],
   "source": [
    "def plot_skeletons(skeletons, save=''):\n",
    "    \n",
    "    fig = plt.figure(figsize=(8, 5))\n",
    "    ax = fig.add_subplot(1, 1, 1)\n",
    "    ax.set_facecolor('black')\n",
    "    \n",
    "    plt.xlim(0, 1)\n",
    "    plt.ylim(0, .8)\n",
    "    \n",
    "    for color in ['white', 'yellow', 'red']:\n",
    "        beziers = []\n",
    "        for skeleton in skeletons[color]:\n",
    "            \n",
    "            cloud = np.array(skeleton).T\n",
    "\n",
    "            if len(cloud) < 20:\n",
    "                continue\n",
    "\n",
    "            b, c = bw.process_cloud(cloud, color)\n",
    "            \n",
    "            beziers.append(b)\n",
    "            \n",
    "#             plt.plot(*b().T, lw=5, color='black')\n",
    "            plt.plot(*b().T, lw=5, color=color)\n",
    "            plt.scatter(*cloud.T, alpha=.5, c=color)\n",
    "        \n",
    "        bw.beziers[color] = beziers\n",
    "    \n",
    "    if save:\n",
    "        plt.savefig(save, bbox_inches='tight', dpi=200)\n",
    "        plt.close()\n",
    "        \n",
    "    else:\n",
    "        plt.show()"
   ]
  },
  {
   "cell_type": "code",
   "execution_count": 31,
   "metadata": {
    "scrolled": true
   },
   "outputs": [
    {
     "data": {
      "image/png": "[encoded data removed]",
      "text/plain": [
       "<matplotlib.figure.Figure at 0x7f286a20dc90>"
      ]
     },
     "metadata": {
      "needs_background": "light"
     },
     "output_type": "display_data"
    }
   ],
   "source": [
    "plot_skeletons(skeletons_frames[0]) #, 'output/skeletons_1.png')"
   ]
  },
  {
   "cell_type": "code",
   "execution_count": 46,
   "metadata": {},
   "outputs": [],
   "source": [
    "from tqdm import tqdm"
   ]
  },
  {
   "cell_type": "code",
   "execution_count": 50,
   "metadata": {
    "scrolled": false
   },
   "outputs": [
    {
     "name": "stderr",
     "output_type": "stream",
     "text": [
      "100%|#############################################################| 833/833 [17:37<00:00,  1.27s/it]\n"
     ]
    }
   ],
   "source": [
    "for i, skeletons in enumerate(tqdm(skeletons_frames[150:], ascii=True, ncols=100)):\n",
    "    plot_skeletons(skeletons, 'output/skeletons3/skeletons_%03d.png' % (i, ))"
   ]
  },
  {
   "cell_type": "code",
   "execution_count": null,
   "metadata": {},
   "outputs": [],
   "source": []
  }
 ],
 "metadata": {
  "kernelspec": {
   "display_name": "Python 2",
   "language": "python",
   "name": "python2"
  },
  "language_info": {
   "codemirror_mode": {
    "name": "ipython",
    "version": 2
   },
   "file_extension": ".py",
   "mimetype": "text/x-python",
   "name": "python",
   "nbconvert_exporter": "python",
   "pygments_lexer": "ipython2",
   "version": "2.7.15+"
  }
 },
 "nbformat": 4,
 "nbformat_minor": 2
}
