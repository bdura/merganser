{
 "cells": [
  {
   "cell_type": "code",
   "execution_count": 1,
   "metadata": {},
   "outputs": [],
   "source": [
    "%reload_ext autoreload\n",
    "%autoreload 2"
   ]
  },
  {
   "cell_type": "code",
   "execution_count": 2,
   "metadata": {},
   "outputs": [],
   "source": [
    "import sys\n",
    "sys.path.insert(0, '../../../devel/lib/python2.7/dist-packages')\n",
    "sys.path.insert(0, '../../../src/merganser/packages/merganser_line_detector/include')\n",
    "sys.path.insert(0, '../../../src/merganser/packages/merganser_bezier/include')"
   ]
  },
  {
   "cell_type": "code",
   "execution_count": 3,
   "metadata": {},
   "outputs": [],
   "source": [
    "%matplotlib inline\n",
    "import numpy as np\n",
    "import matplotlib.pyplot as plt\n",
    "import cv2\n",
    "\n",
    "import json\n",
    "\n",
    "import duckietown_utils as dtu\n",
    "from merganser_line_detector.line_detector import LineDetectorHSV\n",
    "from merganser_line_detector.utils import detections_to_image, skeletons_to_image"
   ]
  },
  {
   "cell_type": "code",
   "execution_count": 4,
   "metadata": {},
   "outputs": [],
   "source": [
    "from merganser_bezier.bezier import Bezier, compute_curve"
   ]
  },
  {
   "cell_type": "code",
   "execution_count": 5,
   "metadata": {},
   "outputs": [],
   "source": [
    "config_filename = '../../../src/merganser/packages/merganser_line_detector/config/merganser_line_detector_node/default.yaml'"
   ]
  },
  {
   "cell_type": "code",
   "execution_count": 6,
   "metadata": {},
   "outputs": [],
   "source": [
    "with open(config_filename, 'r') as f:\n",
    "    config = dtu.yaml_load(f.read())\n",
    "configuration = config['detector'][1]['configuration']"
   ]
  },
  {
   "cell_type": "code",
   "execution_count": 7,
   "metadata": {},
   "outputs": [],
   "source": [
    "detector = LineDetectorHSV(configuration)"
   ]
  },
  {
   "cell_type": "code",
   "execution_count": 8,
   "metadata": {},
   "outputs": [],
   "source": [
    "def process_image(image, config):\n",
    "    img_size = config['img_size']\n",
    "    top_cutoff = config['top_cutoff']\n",
    "    img = cv2.resize(image, (img_size[1], img_size[0]))\n",
    "    return img[top_cutoff:]"
   ]
  },
  {
   "cell_type": "code",
   "execution_count": 9,
   "metadata": {},
   "outputs": [],
   "source": [
    "filename = 'skeletons_log_11-25_2.json'\n",
    "with open(filename, 'rb') as f:\n",
    "    skeletons_frames = json.load(f)"
   ]
  },
  {
   "cell_type": "code",
   "execution_count": 10,
   "metadata": {},
   "outputs": [
    {
     "data": {
      "text/plain": [
       "array([[ 0.2,  0.2],\n",
       "       [ 0.4,  0.4],\n",
       "       [ 0.6,  0.6],\n",
       "       [ 0.8,  0.8]])"
      ]
     },
     "execution_count": 10,
     "metadata": {},
     "output_type": "execute_result"
    }
   ],
   "source": [
    "choice = np.linspace(.2, .8, 4).reshape(-1, 1)\n",
    "choice = np.hstack((choice, choice))\n",
    "choice"
   ]
  },
  {
   "cell_type": "code",
   "execution_count": 11,
   "metadata": {},
   "outputs": [],
   "source": [
    "cloud = np.array(skeletons_frames[0]['white'][0]).T"
   ]
  },
  {
   "cell_type": "code",
   "execution_count": 12,
   "metadata": {},
   "outputs": [
    {
     "data": {
      "text/plain": [
       "98"
      ]
     },
     "execution_count": 12,
     "metadata": {},
     "output_type": "execute_result"
    }
   ],
   "source": [
    "len(cloud)"
   ]
  },
  {
   "cell_type": "code",
   "execution_count": 13,
   "metadata": {},
   "outputs": [],
   "source": [
    "bezier = Bezier(4, 100, choice=cloud)"
   ]
  },
  {
   "cell_type": "code",
   "execution_count": 15,
   "metadata": {},
   "outputs": [
    {
     "name": "stdout",
     "output_type": "stream",
     "text": [
      "1000 loops, best of 3: 205 µs per loop\n"
     ]
    }
   ],
   "source": [
    "%timeit bezier.nll(cloud)"
   ]
  },
  {
   "cell_type": "code",
   "execution_count": 16,
   "metadata": {},
   "outputs": [
    {
     "name": "stdout",
     "output_type": "stream",
     "text": [
      "100 loops, best of 3: 2.5 ms per loop\n"
     ]
    }
   ],
   "source": [
    "%timeit bezier.fit(cloud, steps=1, eps=0)"
   ]
  },
  {
   "cell_type": "code",
   "execution_count": 23,
   "metadata": {},
   "outputs": [],
   "source": [
    "bezier.fit(cloud, steps=10, eps=0, lr=.1)"
   ]
  },
  {
   "cell_type": "code",
   "execution_count": 24,
   "metadata": {},
   "outputs": [
    {
     "data": {
      "text/plain": [
       "<matplotlib.collections.PathCollection at 0x7f62fe999290>"
      ]
     },
     "execution_count": 24,
     "metadata": {},
     "output_type": "execute_result"
    },
    {
     "data": {
      "image/png": "[encoded data removed]",
      "text/plain": [
       "<matplotlib.figure.Figure at 0x7f62fe9992d0>"
      ]
     },
     "metadata": {
      "needs_background": "light"
     },
     "output_type": "display_data"
    }
   ],
   "source": [
    "plt.plot(*bezier().T)\n",
    "plt.scatter(*cloud.T, alpha=.5)"
   ]
  },
  {
   "cell_type": "code",
   "execution_count": 25,
   "metadata": {},
   "outputs": [
    {
     "name": "stdout",
     "output_type": "stream",
     "text": [
      "10 loops, best of 3: 21.6 ms per loop\n"
     ]
    }
   ],
   "source": [
    "%%timeit\n",
    "bezier = Bezier(4, 20, choice=cloud)\n",
    "bezier.fit(cloud, steps=100, eps=0.001, lr=.01)"
   ]
  },
  {
   "cell_type": "code",
   "execution_count": 35,
   "metadata": {},
   "outputs": [],
   "source": [
    "bezier = Bezier(4, 20, choice=cloud)\n",
    "bezier.fit(cloud, steps=100, eps=0.001, lr=.01)"
   ]
  },
  {
   "cell_type": "code",
   "execution_count": 36,
   "metadata": {
    "scrolled": true
   },
   "outputs": [
    {
     "data": {
      "text/plain": [
       "<matplotlib.collections.PathCollection at 0x7f62fe6d8610>"
      ]
     },
     "execution_count": 36,
     "metadata": {},
     "output_type": "execute_result"
    },
    {
     "data": {
      "image/png": "[encoded data removed]",
      "text/plain": [
       "<matplotlib.figure.Figure at 0x7f62fe6d8d50>"
      ]
     },
     "metadata": {
      "needs_background": "light"
     },
     "output_type": "display_data"
    }
   ],
   "source": [
    "plt.plot(*bezier().T)\n",
    "plt.scatter(*cloud.T, alpha=.5)"
   ]
  },
  {
   "cell_type": "code",
   "execution_count": 37,
   "metadata": {},
   "outputs": [
    {
     "name": "stdout",
     "output_type": "stream",
     "text": [
      "100 loops, best of 3: 2.74 ms per loop\n"
     ]
    }
   ],
   "source": [
    "%%timeit\n",
    "bezier = Bezier(4, 20, choice=cloud)\n",
    "bezier.closed_form(cloud)"
   ]
  },
  {
   "cell_type": "code",
   "execution_count": 38,
   "metadata": {},
   "outputs": [],
   "source": [
    "bezier = Bezier(4, 20, choice=cloud)\n",
    "bezier.closed_form(cloud)"
   ]
  },
  {
   "cell_type": "code",
   "execution_count": 39,
   "metadata": {
    "scrolled": true
   },
   "outputs": [
    {
     "data": {
      "text/plain": [
       "<matplotlib.collections.PathCollection at 0x7f62fe635850>"
      ]
     },
     "execution_count": 39,
     "metadata": {},
     "output_type": "execute_result"
    },
    {
     "data": {
      "image/png": "[encoded data removed]",
      "text/plain": [
       "<matplotlib.figure.Figure at 0x7f62fe6359d0>"
      ]
     },
     "metadata": {
      "needs_background": "light"
     },
     "output_type": "display_data"
    }
   ],
   "source": [
    "plt.plot(*bezier().T)\n",
    "plt.scatter(*cloud.T, alpha=.5)"
   ]
  },
  {
   "cell_type": "code",
   "execution_count": 53,
   "metadata": {},
   "outputs": [],
   "source": [
    "bezier = Bezier(4, 20, choice=cloud)\n",
    "\n",
    "bezier.closed_form(cloud)\n",
    "bezier.closed_form(cloud)\n",
    "bezier.closed_form(cloud)\n",
    "bezier.closed_form(cloud)"
   ]
  },
  {
   "cell_type": "code",
   "execution_count": 54,
   "metadata": {},
   "outputs": [
    {
     "data": {
      "text/plain": [
       "<matplotlib.collections.PathCollection at 0x7f6cfe32a2d0>"
      ]
     },
     "execution_count": 54,
     "metadata": {},
     "output_type": "execute_result"
    },
    {
     "data": {
      "image/png": "[encoded data removed]",
      "text/plain": [
       "<matplotlib.figure.Figure at 0x7f6cfe32a250>"
      ]
     },
     "metadata": {
      "needs_background": "light"
     },
     "output_type": "display_data"
    }
   ],
   "source": [
    "plt.plot(*bezier().T)\n",
    "plt.scatter(*cloud.T)"
   ]
  },
  {
   "cell_type": "code",
   "execution_count": null,
   "metadata": {},
   "outputs": [],
   "source": [
    "%%timeit\n",
    "bezier = Bezier(4, 100, choice=cloud)\n",
    "bezier.closed_form(cloud)"
   ]
  },
  {
   "cell_type": "code",
   "execution_count": 39,
   "metadata": {},
   "outputs": [
    {
     "data": {
      "text/plain": [
       "<matplotlib.collections.PathCollection at 0x7fd373d79390>"
      ]
     },
     "execution_count": 39,
     "metadata": {},
     "output_type": "execute_result"
    },
    {
     "data": {
      "image/png": "[encoded data removed]",
      "text/plain": [
       "<matplotlib.figure.Figure at 0x7fd373d9a1d0>"
      ]
     },
     "metadata": {
      "needs_background": "light"
     },
     "output_type": "display_data"
    }
   ],
   "source": [
    "params = bezier.closed_form(cloud)\n",
    "bezier.controls = params\n",
    "plt.plot(*bezier().T)\n",
    "plt.scatter(*cloud.T)"
   ]
  },
  {
   "cell_type": "code",
   "execution_count": 31,
   "metadata": {},
   "outputs": [
    {
     "data": {
      "text/plain": [
       "array([[ 0.00419374,  0.42452775],\n",
       "       [ 0.0656851 ,  0.52608448],\n",
       "       [ 0.16880441,  0.5469147 ],\n",
       "       [ 0.26626558,  0.58344595]])"
      ]
     },
     "execution_count": 31,
     "metadata": {},
     "output_type": "execute_result"
    }
   ],
   "source": [
    "params"
   ]
  },
  {
   "cell_type": "code",
   "execution_count": 32,
   "metadata": {},
   "outputs": [
    {
     "data": {
      "text/plain": [
       "<matplotlib.collections.PathCollection at 0x7fd37402ff10>"
      ]
     },
     "execution_count": 32,
     "metadata": {},
     "output_type": "execute_result"
    },
    {
     "data": {
      "image/png": "[encoded data removed]",
      "text/plain": [
       "<matplotlib.figure.Figure at 0x7fd37402f890>"
      ]
     },
     "metadata": {
      "needs_background": "light"
     },
     "output_type": "display_data"
    }
   ],
   "source": [
    "plt.plot(*compute_curve(params).T)\n",
    "plt.scatter(*cloud.T)"
   ]
  },
  {
   "cell_type": "code",
   "execution_count": 40,
   "metadata": {},
   "outputs": [
    {
     "data": {
      "text/plain": [
       "0.031189449902748516"
      ]
     },
     "execution_count": 40,
     "metadata": {},
     "output_type": "execute_result"
    }
   ],
   "source": [
    "bezier.nll(cloud)"
   ]
  },
  {
   "cell_type": "code",
   "execution_count": 30,
   "metadata": {},
   "outputs": [],
   "source": [
    "class BezierWrapper:\n",
    "    \n",
    "    def __init__(self):\n",
    "        \n",
    "        self.beziers = dict(red=[], yellow=[], white=[])\n",
    "        \n",
    "        self.curve_precision = 20\n",
    "        self.reg = .01\n",
    "        self.eps = .001\n",
    "        self.lr = .01\n",
    "        self.fitting_steps = 100\n",
    "        self.loss_threshold = .001\n",
    "        \n",
    "    def process_cloud(self, cloud, color):\n",
    "        \n",
    "        choice = np.linspace(.2, .8, 4).reshape(-1, 1)\n",
    "        choice = np.hstack((choice, choice))\n",
    "        \n",
    "        beziers = self.beziers[color]\n",
    "        \n",
    "        losses = np.array([b.loss(cloud) for b in beziers])\n",
    "        argmin = losses.argmin() if len(losses) > 0 else -1\n",
    "\n",
    "        if argmin > -1 and losses[argmin] < self.loss_threshold:\n",
    "            bezier = beziers[argmin].copy()\n",
    "        else:\n",
    "            bezier = Bezier(4, self.curve_precision, choice=cloud, reg=self.reg)\n",
    "        \n",
    "#         bezier.extrapolate(-.05, 1.05)\n",
    "            \n",
    "        bezier.fit(\n",
    "            cloud=cloud,\n",
    "            steps=self.fitting_steps,\n",
    "            eps=self.eps,\n",
    "            lr=self.lr,\n",
    "        )\n",
    "        \n",
    "        return bezier, color\n",
    "    \n",
    "    def process_clouds(self, skeletons):\n",
    "        pass"
   ]
  },
  {
   "cell_type": "code",
   "execution_count": 31,
   "metadata": {},
   "outputs": [],
   "source": [
    "bw = BezierWrapper()"
   ]
  },
  {
   "cell_type": "code",
   "execution_count": 48,
   "metadata": {},
   "outputs": [],
   "source": [
    "def plot_skeletons(skeletons, save=''):\n",
    "    \n",
    "    fig = plt.figure(figsize=(8, 5))\n",
    "    ax = fig.add_subplot(1, 1, 1)\n",
    "    ax.set_facecolor('black')\n",
    "    \n",
    "    plt.xlim(0, 1)\n",
    "    plt.ylim(0, .8)\n",
    "    \n",
    "    for color in ['white', 'yellow', 'red']:\n",
    "        beziers = []\n",
    "        for skeleton in skeletons[color]:\n",
    "            \n",
    "            cloud = np.array(skeleton).T\n",
    "\n",
    "            if len(cloud) < 20:\n",
    "                continue\n",
    "\n",
    "            b, c = bw.process_cloud(cloud, color)\n",
    "            \n",
    "            beziers.append(b)\n",
    "            \n",
    "#             plt.plot(*b().T, lw=5, color='black')\n",
    "            plt.plot(*b().T, lw=5, color=color)\n",
    "            plt.scatter(*cloud.T, alpha=.5, c=color)\n",
    "        \n",
    "        bw.beziers[color] = beziers\n",
    "    \n",
    "    if save:\n",
    "        plt.savefig(save, bbox_inches='tight', dpi=200)\n",
    "        plt.close()\n",
    "        \n",
    "    else:\n",
    "        plt.show()"
   ]
  },
  {
   "cell_type": "code",
   "execution_count": 49,
   "metadata": {
    "scrolled": true
   },
   "outputs": [
    {
     "data": {
      "image/png": "[encoded data removed]",
      "text/plain": [
       "<matplotlib.figure.Figure at 0x7fed1054f610>"
      ]
     },
     "metadata": {
      "needs_background": "light"
     },
     "output_type": "display_data"
    }
   ],
   "source": [
    "plot_skeletons(skeletons_frames[0]) #, 'output/skeletons_1.png')"
   ]
  },
  {
   "cell_type": "code",
   "execution_count": 46,
   "metadata": {},
   "outputs": [],
   "source": [
    "from tqdm import tqdm"
   ]
  },
  {
   "cell_type": "code",
   "execution_count": 50,
   "metadata": {
    "scrolled": false
   },
   "outputs": [
    {
     "name": "stderr",
     "output_type": "stream",
     "text": [
      "100%|#############################################################| 833/833 [17:37<00:00,  1.27s/it]\n"
     ]
    }
   ],
   "source": [
    "for i, skeletons in enumerate(tqdm(skeletons_frames[150:], ascii=True, ncols=100)):\n",
    "    plot_skeletons(skeletons, 'output/skeletons3/skeletons_%03d.png' % (i, ))"
   ]
  },
  {
   "cell_type": "code",
   "execution_count": null,
   "metadata": {},
   "outputs": [],
   "source": []
  }
 ],
 "metadata": {
  "kernelspec": {
   "display_name": "Python 2",
   "language": "python",
   "name": "python2"
  },
  "language_info": {
   "codemirror_mode": {
    "name": "ipython",
    "version": 2
   },
   "file_extension": ".py",
   "mimetype": "text/x-python",
   "name": "python",
   "nbconvert_exporter": "python",
   "pygments_lexer": "ipython2",
   "version": "2.7.15+"
  }
 },
 "nbformat": 4,
 "nbformat_minor": 2
}
