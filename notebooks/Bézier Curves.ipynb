{
 "cells": [
  {
   "cell_type": "code",
   "execution_count": 1,
   "metadata": {
    "ExecuteTime": {
     "end_time": "2019-11-04T14:22:31.084520Z",
     "start_time": "2019-11-04T14:22:30.264128Z"
    }
   },
   "outputs": [],
   "source": [
    "import torch\n",
    "from torch import nn\n",
    "\n",
    "from torch.optim import SGD, Adam"
   ]
  },
  {
   "cell_type": "code",
   "execution_count": 2,
   "metadata": {
    "ExecuteTime": {
     "end_time": "2019-11-04T14:22:31.089104Z",
     "start_time": "2019-11-04T14:22:31.086680Z"
    }
   },
   "outputs": [],
   "source": [
    "import numpy as np"
   ]
  },
  {
   "cell_type": "code",
   "execution_count": 47,
   "metadata": {
    "ExecuteTime": {
     "end_time": "2019-11-04T14:22:31.389026Z",
     "start_time": "2019-11-04T14:22:31.091063Z"
    }
   },
   "outputs": [],
   "source": [
    "import matplotlib.pyplot as plt\n",
    "from matplotlib import animation"
   ]
  },
  {
   "cell_type": "code",
   "execution_count": 4,
   "metadata": {
    "ExecuteTime": {
     "end_time": "2019-11-04T14:22:31.410920Z",
     "start_time": "2019-11-04T14:22:31.390778Z"
    }
   },
   "outputs": [],
   "source": [
    "%reload_ext autoreload\n",
    "%autoreload 2"
   ]
  },
  {
   "cell_type": "code",
   "execution_count": 5,
   "metadata": {
    "ExecuteTime": {
     "end_time": "2019-11-04T14:22:31.998684Z",
     "start_time": "2019-11-04T14:22:31.857349Z"
    }
   },
   "outputs": [],
   "source": [
    "import bezier"
   ]
  },
  {
   "cell_type": "markdown",
   "metadata": {},
   "source": [
    "# Initialisation"
   ]
  },
  {
   "cell_type": "code",
   "execution_count": 6,
   "metadata": {
    "ExecuteTime": {
     "end_time": "2019-11-04T14:22:32.242249Z",
     "start_time": "2019-11-04T14:22:32.222138Z"
    }
   },
   "outputs": [],
   "source": [
    "controls = np.random.normal(size=(10, 2))"
   ]
  },
  {
   "cell_type": "code",
   "execution_count": 7,
   "metadata": {
    "ExecuteTime": {
     "end_time": "2019-11-04T14:35:00.300696Z",
     "start_time": "2019-11-04T14:35:00.277926Z"
    }
   },
   "outputs": [],
   "source": [
    "controls = np.array([\n",
    "    [0, 1],\n",
    "    [1, 0],\n",
    "    [2, 3],\n",
    "    [3, 0],\n",
    "])"
   ]
  },
  {
   "cell_type": "code",
   "execution_count": 8,
   "metadata": {
    "ExecuteTime": {
     "end_time": "2019-11-04T14:35:00.644256Z",
     "start_time": "2019-11-04T14:35:00.458164Z"
    }
   },
   "outputs": [
    {
     "data": {
      "text/plain": [
       "<matplotlib.collections.PathCollection at 0x1344268d0>"
      ]
     },
     "execution_count": 8,
     "metadata": {},
     "output_type": "execute_result"
    },
    {
     "data": {
      "image/png": "[encoded data removed]",
      "text/plain": [
       "<Figure size 432x288 with 1 Axes>"
      ]
     },
     "metadata": {
      "needs_background": "light"
     },
     "output_type": "display_data"
    }
   ],
   "source": [
    "plt.scatter(*controls.T)"
   ]
  },
  {
   "cell_type": "code",
   "execution_count": 9,
   "metadata": {
    "ExecuteTime": {
     "end_time": "2019-11-04T15:22:02.797265Z",
     "start_time": "2019-11-04T15:22:02.768730Z"
    }
   },
   "outputs": [],
   "source": [
    "ts = np.linspace(0, 1, 100)"
   ]
  },
  {
   "cell_type": "code",
   "execution_count": 10,
   "metadata": {
    "ExecuteTime": {
     "end_time": "2019-11-04T15:22:03.111407Z",
     "start_time": "2019-11-04T15:22:03.085012Z"
    }
   },
   "outputs": [],
   "source": [
    "curve = np.array([bezier.compute(t, controls) for t in ts])"
   ]
  },
  {
   "cell_type": "code",
   "execution_count": 11,
   "metadata": {
    "ExecuteTime": {
     "end_time": "2019-11-04T15:22:04.330105Z",
     "start_time": "2019-11-04T15:22:04.181747Z"
    }
   },
   "outputs": [
    {
     "data": {
      "text/plain": [
       "[<matplotlib.lines.Line2D at 0x134514ad0>]"
      ]
     },
     "execution_count": 11,
     "metadata": {},
     "output_type": "execute_result"
    },
    {
     "data": {
      "image/png": "[encoded data removed]",
      "text/plain": [
       "<Figure size 432x288 with 1 Axes>"
      ]
     },
     "metadata": {
      "needs_background": "light"
     },
     "output_type": "display_data"
    }
   ],
   "source": [
    "plt.scatter(*controls.T)\n",
    "plt.plot(*curve.T)"
   ]
  },
  {
   "cell_type": "code",
   "execution_count": 12,
   "metadata": {
    "ExecuteTime": {
     "end_time": "2019-11-04T15:22:06.518040Z",
     "start_time": "2019-11-04T15:22:06.494314Z"
    }
   },
   "outputs": [],
   "source": [
    "cloud = torch.randn(*curve.shape) * .1 + torch.Tensor(curve)"
   ]
  },
  {
   "cell_type": "code",
   "execution_count": 13,
   "metadata": {
    "ExecuteTime": {
     "end_time": "2019-11-04T15:22:07.373926Z",
     "start_time": "2019-11-04T15:22:07.240487Z"
    }
   },
   "outputs": [
    {
     "data": {
      "text/plain": [
       "<matplotlib.collections.PathCollection at 0x134662cd0>"
      ]
     },
     "execution_count": 13,
     "metadata": {},
     "output_type": "execute_result"
    },
    {
     "data": {
      "image/png": "[encoded data removed]",
      "text/plain": [
       "<Figure size 432x288 with 1 Axes>"
      ]
     },
     "metadata": {
      "needs_background": "light"
     },
     "output_type": "display_data"
    }
   ],
   "source": [
    "plt.scatter(*controls.T)\n",
    "plt.scatter(*cloud.t())"
   ]
  },
  {
   "cell_type": "markdown",
   "metadata": {},
   "source": [
    "# Fitting the Bezier curve"
   ]
  },
  {
   "cell_type": "markdown",
   "metadata": {},
   "source": [
    "## Initialisation"
   ]
  },
  {
   "cell_type": "code",
   "execution_count": 30,
   "metadata": {
    "ExecuteTime": {
     "end_time": "2019-11-04T15:22:15.906708Z",
     "start_time": "2019-11-04T15:22:15.881252Z"
    }
   },
   "outputs": [],
   "source": [
    "b = bezier.Bezier(4, 100, cloud)\n",
    "# b = bezier.Bezier(4, 100, None)\n",
    "\n",
    "choice = torch.Tensor([\n",
    "    [0, 1],\n",
    "    [1, 1],\n",
    "    [2, 1],\n",
    "    [3, 1],\n",
    "])\n",
    "# b = bezier.Bezier(4, 100, choice)\n",
    "# b = bezier.Bezier(4, 100, controls)"
   ]
  },
  {
   "cell_type": "code",
   "execution_count": 31,
   "metadata": {},
   "outputs": [],
   "source": [
    "b.extrapolate(.1, 1.1)"
   ]
  },
  {
   "cell_type": "code",
   "execution_count": 32,
   "metadata": {
    "ExecuteTime": {
     "end_time": "2019-11-04T15:22:16.695322Z",
     "start_time": "2019-11-04T15:22:16.555707Z"
    }
   },
   "outputs": [
    {
     "data": {
      "text/plain": [
       "[<matplotlib.lines.Line2D at 0x1348f1b10>]"
      ]
     },
     "execution_count": 32,
     "metadata": {},
     "output_type": "execute_result"
    },
    {
     "data": {
      "image/png": "[encoded data removed]",
      "text/plain": [
       "<Figure size 432x288 with 1 Axes>"
      ]
     },
     "metadata": {
      "needs_background": "light"
     },
     "output_type": "display_data"
    }
   ],
   "source": [
    "plt.scatter(*controls.T, color='C0')\n",
    "plt.plot(*curve.T, color='C0')\n",
    "\n",
    "plt.scatter(*cloud.t(), color='C1')\n",
    "\n",
    "\n",
    "plt.scatter(*b.controls.detach().numpy().T, color='C3')\n",
    "plt.plot(*b().detach().numpy().T, color='C3')"
   ]
  },
  {
   "cell_type": "markdown",
   "metadata": {},
   "source": [
    "## Loss & training strategy"
   ]
  },
  {
   "cell_type": "code",
   "execution_count": 33,
   "metadata": {
    "ExecuteTime": {
     "end_time": "2019-11-04T15:22:19.238802Z",
     "start_time": "2019-11-04T15:22:19.217588Z"
    }
   },
   "outputs": [],
   "source": [
    "loss = bezier.BezierLoss(alpha=5e-3)\n",
    "# loss = bezier.BezierLoss('min')"
   ]
  },
  {
   "cell_type": "code",
   "execution_count": 34,
   "metadata": {
    "ExecuteTime": {
     "end_time": "2019-11-04T15:22:19.714440Z",
     "start_time": "2019-11-04T15:22:19.691051Z"
    }
   },
   "outputs": [
    {
     "data": {
      "text/plain": [
       "tensor(0.0432, grad_fn=<AddBackward0>)"
      ]
     },
     "execution_count": 34,
     "metadata": {},
     "output_type": "execute_result"
    }
   ],
   "source": [
    "loss(b(), cloud)"
   ]
  },
  {
   "cell_type": "code",
   "execution_count": 35,
   "metadata": {
    "ExecuteTime": {
     "end_time": "2019-11-04T15:22:20.047124Z",
     "start_time": "2019-11-04T15:22:20.026341Z"
    }
   },
   "outputs": [],
   "source": [
    "optimizer = Adam(b.parameters(), lr=.1)"
   ]
  },
  {
   "cell_type": "code",
   "execution_count": 36,
   "metadata": {
    "ExecuteTime": {
     "end_time": "2019-11-04T15:22:21.205633Z",
     "start_time": "2019-11-04T15:22:21.181149Z"
    }
   },
   "outputs": [],
   "source": [
    "def train(steps=100):\n",
    "    for step in range(steps):\n",
    "        b.zero_grad()\n",
    "        \n",
    "        l = loss(b(), cloud)\n",
    "        l.backward()\n",
    "        \n",
    "        optimizer.step()\n",
    "        \n",
    "#        if step > 0 and step % 10 == 0:\n",
    "#            plt.scatter(*controls.T, color='C0')\n",
    "#            plt.plot(*curve.T, color='C0')\n",
    "\n",
    "#            plt.scatter(*cloud.t(), color='C1')\n",
    "\n",
    "\n",
    "#            plt.scatter(*b.controls.detach().numpy().T, color='C3')\n",
    "#            plt.plot(*b().detach().numpy().T, color='C3')\n",
    "           \n",
    "#            plt.show()"
   ]
  },
  {
   "cell_type": "markdown",
   "metadata": {},
   "source": [
    "## Fitting"
   ]
  },
  {
   "cell_type": "code",
   "execution_count": 38,
   "metadata": {
    "ExecuteTime": {
     "end_time": "2019-11-04T15:30:54.156268Z",
     "start_time": "2019-11-04T15:30:53.979178Z"
    }
   },
   "outputs": [],
   "source": [
    "def animate_fitting():\n",
    "    fig = plt.figure(figsize=(10, 7))\n",
    "    ax = plt.axes(xlim=(-1, 4), ylim=(-1, 4))\n",
    "    ax.scatter(*controls.T, color='C0')\n",
    "    ax.plot(*curve.T, color='C0')\n",
    "\n",
    "    ax.scatter(*cloud.t(), color='C1')\n",
    "\n",
    "    line, = ax.plot([], [], color='C3')\n",
    "    anchors, = ax.plot([], [], 'bo', color='C3')\n",
    "\n",
    "    # initialization function: plot the background of each frame\n",
    "    def init():\n",
    "\n",
    "        line.set_data(*b().detach().numpy().T)\n",
    "        anchors.set_data(*b.controls.detach().numpy().T)\n",
    "        return line,\n",
    "\n",
    "    # animation function.  This is called sequentially\n",
    "    def animate(i):\n",
    "        train(1)\n",
    "        line.set_data(*b().detach().numpy().T)\n",
    "        anchors.set_data(*b.controls.detach().numpy().T)\n",
    "        return line,\n",
    "\n",
    "    anim = animation.FuncAnimation(fig, animate, init_func=init,\n",
    "                                   frames=200, interval=20, blit=True)\n",
    "    \n",
    "    return anim"
   ]
  },
  {
   "cell_type": "code",
   "execution_count": 41,
   "metadata": {
    "ExecuteTime": {
     "end_time": "2019-11-04T15:31:06.534660Z",
     "start_time": "2019-11-04T15:31:00.797788Z"
    }
   },
   "outputs": [
    {
     "data": {
      "image/png": "[encoded data removed]",
      "text/plain": [
       "<Figure size 720x504 with 1 Axes>"
      ]
     },
     "metadata": {
      "needs_background": "light"
     },
     "output_type": "display_data"
    }
   ],
   "source": [
    "anim = animate_fitting()\n",
    "anim.save('output/extrapolation-init.mp4', fps=30, extra_args=['-vcodec', 'libx264'])"
   ]
  },
  {
   "cell_type": "markdown",
   "metadata": {},
   "source": [
    "# Extending the curve"
   ]
  },
  {
   "cell_type": "markdown",
   "metadata": {},
   "source": [
    "## De Casteljau's algorithm"
   ]
  },
  {
   "cell_type": "code",
   "execution_count": 42,
   "metadata": {},
   "outputs": [],
   "source": [
    "anchors = controls.copy()"
   ]
  },
  {
   "cell_type": "code",
   "execution_count": 45,
   "metadata": {},
   "outputs": [],
   "source": [
    "new_anchors = bezier.extrapolate(anchors, 0.2, 1.1)"
   ]
  },
  {
   "cell_type": "code",
   "execution_count": 46,
   "metadata": {},
   "outputs": [
    {
     "data": {
      "text/plain": [
       "[<matplotlib.lines.Line2D at 0x134be6150>]"
      ]
     },
     "execution_count": 46,
     "metadata": {},
     "output_type": "execute_result"
    },
    {
     "data": {
      "image/png": "[encoded data removed]",
      "text/plain": [
       "<Figure size 432x288 with 1 Axes>"
      ]
     },
     "metadata": {
      "needs_background": "light"
     },
     "output_type": "display_data"
    }
   ],
   "source": [
    "plt.plot(*bezier.compute_curve(anchors).T)\n",
    "plt.plot(*bezier.compute_curve(new_anchors).T, alpha=.5)"
   ]
  },
  {
   "cell_type": "code",
   "execution_count": null,
   "metadata": {},
   "outputs": [],
   "source": [
    "b.extrapolate()"
   ]
  },
  {
   "cell_type": "code",
   "execution_count": 41,
   "metadata": {
    "ExecuteTime": {
     "end_time": "2019-11-04T15:31:06.534660Z",
     "start_time": "2019-11-04T15:31:00.797788Z"
    }
   },
   "outputs": [
    {
     "data": {
      "image/png": "[encoded data removed]",
      "text/plain": [
       "<Figure size 720x504 with 1 Axes>"
      ]
     },
     "metadata": {
      "needs_background": "light"
     },
     "output_type": "display_data"
    }
   ],
   "source": [
    "anim = animate_fitting()\n",
    "anim.save('output/extrapolation-init.mp4', fps=30, extra_args=['-vcodec', 'libx264'])"
   ]
  },
  {
   "cell_type": "code",
   "execution_count": null,
   "metadata": {},
   "outputs": [],
   "source": []
  },
  {
   "cell_type": "code",
   "execution_count": null,
   "metadata": {},
   "outputs": [],
   "source": []
  }
 ],
 "metadata": {
  "kernelspec": {
   "display_name": "Python 3",
   "language": "python",
   "name": "python3"
  },
  "language_info": {
   "codemirror_mode": {
    "name": "ipython",
    "version": 3
   },
   "file_extension": ".py",
   "mimetype": "text/x-python",
   "name": "python",
   "nbconvert_exporter": "python",
   "pygments_lexer": "ipython3",
   "version": "3.7.4"
  },
  "toc": {
   "base_numbering": 1,
   "nav_menu": {},
   "number_sections": true,
   "sideBar": true,
   "skip_h1_title": false,
   "title_cell": "Table of Contents",
   "title_sidebar": "Contents",
   "toc_cell": false,
   "toc_position": {},
   "toc_section_display": true,
   "toc_window_display": false
  }
 },
 "nbformat": 4,
 "nbformat_minor": 2
}
